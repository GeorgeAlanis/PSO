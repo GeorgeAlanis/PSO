{
 "cells": [
  {
   "cell_type": "markdown",
   "metadata": {},
   "source": [
    "# Implementación del algoritmo PSO para el clustering de puntos georeferenciados\n",
    "---"
   ]
  },
  {
   "cell_type": "markdown",
   "metadata": {},
   "source": [
    "## Introducción \n",
    "En este proyecto implementamos el algoritmo de optimizacion [PSO](https://es.wikipedia.org/wiki/Optimizaci%C3%B3n_por_enjambre_de_part%C3%ADculas) y lo modificamos para optimizar el clustering de puntos georeferenciados. Los puntos georeferenciados tienen los atributos latitud, longitud y tiempo en tienda. Al hacer el clustering se intenta minimizar la varianza entre los totales de tiempo en tienda de cada cluster, intentando así que todos los grupos se parezcan en sus sumas de tiempos en tienda.\n"
   ]
  },
  {
   "cell_type": "markdown",
   "metadata": {},
   "source": [
    "## Implementación\n",
    "---"
   ]
  },
  {
   "cell_type": "code",
   "execution_count": 1,
   "metadata": {},
   "outputs": [],
   "source": [
    "#This is magic, don't touch it\n",
    "%reload_ext autoreload\n",
    "%autoreload 2\n",
    "%matplotlib inline"
   ]
  },
  {
   "cell_type": "markdown",
   "metadata": {},
   "source": [
    "El proyecto está siendo desarrollado como una librería de python 2.7 que consta de 3 partes principales:\n",
    "* utils.py\n",
    "\n",
    "   Este archivo ccontiene funciones que propiamente no pertenecen a PSO pero que son utilizadas dentro de la implementación para sacar distancias, areas, etc.\n",
    "* classes.py\n",
    "\n",
    "   Este archivo contiene las clases que usamos para representar los puntos y clusters de puntos.\n",
    "   \n",
    "* pso.py \n",
    "\n",
    "   Este archivo contiene nuestra implementación de PSO para clusterizar usando como función fitnes la varianza entre los totales de tiempo en tienda de los clusters."
   ]
  },
  {
   "cell_type": "code",
   "execution_count": 9,
   "metadata": {},
   "outputs": [],
   "source": [
    "import pandas as pd #esto es para la visualización de los resultados \n",
    "import numpy as np #esto es para la visualización de los resultados\n",
    "import utils as utl\n",
    "import pso"
   ]
  },
  {
   "cell_type": "markdown",
   "metadata": {},
   "source": [
    "### Extracción de los datos\n",
    "La función getData abre el archivo csv de los puntos, extrae la latitud, longitud y calcula el tiempo el tienda de cada punto, y regresa un arreglo de arreglos del tipo [numpay.array](https://docs.scipy.org/doc/numpy/reference/generated/numpy.array.html)"
   ]
  },
  {
   "cell_type": "code",
   "execution_count": 3,
   "metadata": {},
   "outputs": [],
   "source": [
    "data = utl.getData(file_path=\"assets/sprint7ToroideMixto.csv\")"
   ]
  },
  {
   "cell_type": "code",
   "execution_count": 4,
   "metadata": {},
   "outputs": [
    {
     "data": {
      "text/plain": [
       "array([[array([0.25498388]), array([0.43478261]), array([0.04219409]),\n",
       "        None],\n",
       "       [array([0.26614667]), array([0.40394338]), array([0.03656821]),\n",
       "        None],\n",
       "       [array([0.18372147]), array([0.54095046]), array([0.17018284]),\n",
       "        None],\n",
       "       ...,\n",
       "       [array([0.20235933]), array([0.81395349]), array([0.07172996]),\n",
       "        None],\n",
       "       [array([0.38740904]), array([0.33822042]), array([0.07172996]),\n",
       "        None],\n",
       "       [array([0.37445224]), array([0.69312437]), array([0.07172996]),\n",
       "        None]], dtype=object)"
      ]
     },
     "execution_count": 4,
     "metadata": {},
     "output_type": "execute_result"
    }
   ],
   "source": [
    "data"
   ]
  },
  {
   "cell_type": "markdown",
   "metadata": {},
   "source": [
    "### PSO\n",
    "vamos a usar pso para buscar las soluciones al problema usando diferentes tamaños de población y por cada tamaño de población haremos 30 corridas del algoritmo, luego promediaremos y calcularemos la varianza para cada grupo de corridas. Comparando la varianza y el promedio de la solucion que genera nuestro algoritmo por cada tamaño de población nos permite evaluar su eficacia."
   ]
  },
  {
   "cell_type": "markdown",
   "metadata": {},
   "source": [
    "vamos a crear un [dataFrame](https://pandas.pydata.org/pandas-docs/stable/reference/api/pandas.DataFrame.html#pandas.DataFrame) de pandas para almacenar los resultados y luego poder visualizarlos de una forma más cómoda."
   ]
  },
  {
   "cell_type": "code",
   "execution_count": 5,
   "metadata": {},
   "outputs": [],
   "source": [
    "res_pd = pd.DataFrame(columns=[\"Tamaño población\",\"Iteraciones\",\"Fitness promedio\",\"Varianza\"])"
   ]
  },
  {
   "cell_type": "markdown",
   "metadata": {},
   "source": [
    "Corremos PSO 30 veces por cada tamaño de población"
   ]
  },
  {
   "cell_type": "code",
   "execution_count": null,
   "metadata": {},
   "outputs": [
    {
     "name": "stderr",
     "output_type": "stream",
     "text": [
      "Generando Poblacion inicial: 100%|██████████| 10/10 [00:01<00:00,  6.09 Particle/s]\n",
      "100%|██████████| 100/100 [07:29<00:00,  4.36s/ Epoch, fitness=-19.4]\n",
      "Generando Poblacion inicial: 100%|██████████| 10/10 [00:01<00:00,  6.76 Particle/s]\n",
      "100%|██████████| 100/100 [07:18<00:00,  4.47s/ Epoch, fitness=-28.3]\n",
      "Generando Poblacion inicial: 100%|██████████| 10/10 [00:01<00:00,  5.33 Particle/s]\n",
      "100%|██████████| 100/100 [07:17<00:00,  4.40s/ Epoch, fitness=-28.2]\n",
      "Generando Poblacion inicial: 100%|██████████| 10/10 [00:01<00:00,  5.96 Particle/s]\n",
      "100%|██████████| 100/100 [07:25<00:00,  4.46s/ Epoch, fitness=-20.2]\n",
      "Generando Poblacion inicial: 100%|██████████| 10/10 [00:01<00:00,  6.17 Particle/s]\n",
      "100%|██████████| 100/100 [07:40<00:00,  4.62s/ Epoch, fitness=-26.6]\n",
      "Generando Poblacion inicial: 100%|██████████| 10/10 [00:01<00:00,  5.98 Particle/s]\n",
      " 70%|███████   | 70/100 [05:14<02:12,  4.43s/ Epoch, fitness=-27.4]"
     ]
    }
   ],
   "source": [
    "tamanos_poblacion = [10, 30, 50, 100]\n",
    "iteraciones = 100\n",
    "\n",
    "for N in tamanos_poblacion:\n",
    "    resultados = []\n",
    "    for _ in xrange(30):\n",
    "        Cpso = pso.ClusteringPSO(data, N, max_iter = iteraciones, seed = None)\n",
    "        resultados.append(Cpso.search[0])\n",
    "    var = np.var(resultados)\n",
    "    prom = np.average(resultados)\n",
    "    res_pd.append(pd.Series([N, iteraciones, prom, var],index=res_pd.columns), ignore_index=True)"
   ]
  },
  {
   "cell_type": "markdown",
   "metadata": {},
   "source": [
    "### Resultados"
   ]
  },
  {
   "cell_type": "code",
   "execution_count": null,
   "metadata": {},
   "outputs": [],
   "source": [
    "res_pd"
   ]
  },
  {
   "cell_type": "markdown",
   "metadata": {},
   "source": [
    "## PSOhv\n",
    "---"
   ]
  },
  {
   "cell_type": "markdown",
   "metadata": {},
   "source": [
    "también se desarrollo una implementación del algoritmo PSO con marcador de [hiper volumen](https://es.wikipedia.org/wiki/Hipervolumen)"
   ]
  },
  {
   "cell_type": "code",
   "execution_count": null,
   "metadata": {},
   "outputs": [],
   "source": []
  }
 ],
 "metadata": {
  "kernelspec": {
   "display_name": "Optimization",
   "language": "python",
   "name": "optimization"
  },
  "language_info": {
   "codemirror_mode": {
    "name": "ipython",
    "version": 2
   },
   "file_extension": ".py",
   "mimetype": "text/x-python",
   "name": "python",
   "nbconvert_exporter": "python",
   "pygments_lexer": "ipython2",
   "version": "2.7.16"
  },
  "pycharm": {
   "stem_cell": {
    "cell_type": "raw",
    "metadata": {
     "collapsed": false
    },
    "source": []
   }
  }
 },
 "nbformat": 4,
 "nbformat_minor": 1
}
